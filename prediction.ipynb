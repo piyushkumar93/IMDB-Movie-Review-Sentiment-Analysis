{
 "cells": [
  {
   "cell_type": "code",
   "id": "initial_id",
   "metadata": {
    "collapsed": true,
    "ExecuteTime": {
     "end_time": "2025-05-16T19:12:14.571490Z",
     "start_time": "2025-05-16T19:12:08.588291Z"
    }
   },
   "source": [
    "#3Step 1: import Libraries and Load the Model\n",
    "import numpy as np\n",
    "import tensorflow as tf\n",
    "from tensorflow.keras.datasets import imdb\n",
    "from tensorflow.keras.preprocessing import sequence\n",
    "from tensorflow.keras.models import load_model\n"
   ],
   "outputs": [],
   "execution_count": 1
  },
  {
   "metadata": {
    "ExecuteTime": {
     "end_time": "2025-05-16T19:12:14.644047Z",
     "start_time": "2025-05-16T19:12:14.575609Z"
    }
   },
   "cell_type": "code",
   "source": [
    "##Load the IMDB dataset word Index\n",
    "word_index = imdb.get_word_index()\n",
    "reverse_word_index = {value: key for key, value in word_index.items()}"
   ],
   "id": "bee1d03504f73c53",
   "outputs": [],
   "execution_count": 2
  },
  {
   "metadata": {
    "ExecuteTime": {
     "end_time": "2025-05-16T19:12:15.314202Z",
     "start_time": "2025-05-16T19:12:15.002310Z"
    }
   },
   "cell_type": "code",
   "source": [
    "## Load the pre-trained model with ReLu activation\n",
    "model = load_model('simple_rnn_imdb.h5')\n",
    "model.summary()"
   ],
   "id": "8730373959d620dd",
   "outputs": [
    {
     "name": "stderr",
     "output_type": "stream",
     "text": [
      "WARNING:absl:Compiled the loaded model, but the compiled metrics have yet to be built. `model.compile_metrics` will be empty until you train or evaluate the model.\n"
     ]
    },
    {
     "data": {
      "text/plain": [
       "\u001B[1mModel: \"sequential_5\"\u001B[0m\n"
      ],
      "text/html": [
       "<pre style=\"white-space:pre;overflow-x:auto;line-height:normal;font-family:Menlo,'DejaVu Sans Mono',consolas,'Courier New',monospace\"><span style=\"font-weight: bold\">Model: \"sequential_5\"</span>\n",
       "</pre>\n"
      ]
     },
     "metadata": {},
     "output_type": "display_data"
    },
    {
     "data": {
      "text/plain": [
       "┏━━━━━━━━━━━━━━━━━━━━━━━━━━━━━━━━━┳━━━━━━━━━━━━━━━━━━━━━━━━┳━━━━━━━━━━━━━━━┓\n",
       "┃\u001B[1m \u001B[0m\u001B[1mLayer (type)                   \u001B[0m\u001B[1m \u001B[0m┃\u001B[1m \u001B[0m\u001B[1mOutput Shape          \u001B[0m\u001B[1m \u001B[0m┃\u001B[1m \u001B[0m\u001B[1m      Param #\u001B[0m\u001B[1m \u001B[0m┃\n",
       "┡━━━━━━━━━━━━━━━━━━━━━━━━━━━━━━━━━╇━━━━━━━━━━━━━━━━━━━━━━━━╇━━━━━━━━━━━━━━━┩\n",
       "│ embedding_5 (\u001B[38;5;33mEmbedding\u001B[0m)         │ (\u001B[38;5;45mNone\u001B[0m, \u001B[38;5;34m500\u001B[0m, \u001B[38;5;34m128\u001B[0m)       │     \u001B[38;5;34m1,280,000\u001B[0m │\n",
       "├─────────────────────────────────┼────────────────────────┼───────────────┤\n",
       "│ simple_rnn_5 (\u001B[38;5;33mSimpleRNN\u001B[0m)        │ (\u001B[38;5;45mNone\u001B[0m, \u001B[38;5;34m128\u001B[0m)            │        \u001B[38;5;34m32,896\u001B[0m │\n",
       "├─────────────────────────────────┼────────────────────────┼───────────────┤\n",
       "│ dense_5 (\u001B[38;5;33mDense\u001B[0m)                 │ (\u001B[38;5;45mNone\u001B[0m, \u001B[38;5;34m1\u001B[0m)              │           \u001B[38;5;34m129\u001B[0m │\n",
       "└─────────────────────────────────┴────────────────────────┴───────────────┘\n"
      ],
      "text/html": [
       "<pre style=\"white-space:pre;overflow-x:auto;line-height:normal;font-family:Menlo,'DejaVu Sans Mono',consolas,'Courier New',monospace\">┏━━━━━━━━━━━━━━━━━━━━━━━━━━━━━━━━━┳━━━━━━━━━━━━━━━━━━━━━━━━┳━━━━━━━━━━━━━━━┓\n",
       "┃<span style=\"font-weight: bold\"> Layer (type)                    </span>┃<span style=\"font-weight: bold\"> Output Shape           </span>┃<span style=\"font-weight: bold\">       Param # </span>┃\n",
       "┡━━━━━━━━━━━━━━━━━━━━━━━━━━━━━━━━━╇━━━━━━━━━━━━━━━━━━━━━━━━╇━━━━━━━━━━━━━━━┩\n",
       "│ embedding_5 (<span style=\"color: #0087ff; text-decoration-color: #0087ff\">Embedding</span>)         │ (<span style=\"color: #00d7ff; text-decoration-color: #00d7ff\">None</span>, <span style=\"color: #00af00; text-decoration-color: #00af00\">500</span>, <span style=\"color: #00af00; text-decoration-color: #00af00\">128</span>)       │     <span style=\"color: #00af00; text-decoration-color: #00af00\">1,280,000</span> │\n",
       "├─────────────────────────────────┼────────────────────────┼───────────────┤\n",
       "│ simple_rnn_5 (<span style=\"color: #0087ff; text-decoration-color: #0087ff\">SimpleRNN</span>)        │ (<span style=\"color: #00d7ff; text-decoration-color: #00d7ff\">None</span>, <span style=\"color: #00af00; text-decoration-color: #00af00\">128</span>)            │        <span style=\"color: #00af00; text-decoration-color: #00af00\">32,896</span> │\n",
       "├─────────────────────────────────┼────────────────────────┼───────────────┤\n",
       "│ dense_5 (<span style=\"color: #0087ff; text-decoration-color: #0087ff\">Dense</span>)                 │ (<span style=\"color: #00d7ff; text-decoration-color: #00d7ff\">None</span>, <span style=\"color: #00af00; text-decoration-color: #00af00\">1</span>)              │           <span style=\"color: #00af00; text-decoration-color: #00af00\">129</span> │\n",
       "└─────────────────────────────────┴────────────────────────┴───────────────┘\n",
       "</pre>\n"
      ]
     },
     "metadata": {},
     "output_type": "display_data"
    },
    {
     "data": {
      "text/plain": [
       "\u001B[1m Total params: \u001B[0m\u001B[38;5;34m1,313,027\u001B[0m (5.01 MB)\n"
      ],
      "text/html": [
       "<pre style=\"white-space:pre;overflow-x:auto;line-height:normal;font-family:Menlo,'DejaVu Sans Mono',consolas,'Courier New',monospace\"><span style=\"font-weight: bold\"> Total params: </span><span style=\"color: #00af00; text-decoration-color: #00af00\">1,313,027</span> (5.01 MB)\n",
       "</pre>\n"
      ]
     },
     "metadata": {},
     "output_type": "display_data"
    },
    {
     "data": {
      "text/plain": [
       "\u001B[1m Trainable params: \u001B[0m\u001B[38;5;34m1,313,025\u001B[0m (5.01 MB)\n"
      ],
      "text/html": [
       "<pre style=\"white-space:pre;overflow-x:auto;line-height:normal;font-family:Menlo,'DejaVu Sans Mono',consolas,'Courier New',monospace\"><span style=\"font-weight: bold\"> Trainable params: </span><span style=\"color: #00af00; text-decoration-color: #00af00\">1,313,025</span> (5.01 MB)\n",
       "</pre>\n"
      ]
     },
     "metadata": {},
     "output_type": "display_data"
    },
    {
     "data": {
      "text/plain": [
       "\u001B[1m Non-trainable params: \u001B[0m\u001B[38;5;34m0\u001B[0m (0.00 B)\n"
      ],
      "text/html": [
       "<pre style=\"white-space:pre;overflow-x:auto;line-height:normal;font-family:Menlo,'DejaVu Sans Mono',consolas,'Courier New',monospace\"><span style=\"font-weight: bold\"> Non-trainable params: </span><span style=\"color: #00af00; text-decoration-color: #00af00\">0</span> (0.00 B)\n",
       "</pre>\n"
      ]
     },
     "metadata": {},
     "output_type": "display_data"
    },
    {
     "data": {
      "text/plain": [
       "\u001B[1m Optimizer params: \u001B[0m\u001B[38;5;34m2\u001B[0m (12.00 B)\n"
      ],
      "text/html": [
       "<pre style=\"white-space:pre;overflow-x:auto;line-height:normal;font-family:Menlo,'DejaVu Sans Mono',consolas,'Courier New',monospace\"><span style=\"font-weight: bold\"> Optimizer params: </span><span style=\"color: #00af00; text-decoration-color: #00af00\">2</span> (12.00 B)\n",
       "</pre>\n"
      ]
     },
     "metadata": {},
     "output_type": "display_data"
    }
   ],
   "execution_count": 3
  },
  {
   "metadata": {
    "ExecuteTime": {
     "end_time": "2025-05-16T19:12:15.452808Z",
     "start_time": "2025-05-16T19:12:15.426124Z"
    }
   },
   "cell_type": "code",
   "source": "model.get_weights()",
   "id": "1df09ef5e16e99a4",
   "outputs": [
    {
     "data": {
      "text/plain": [
       "[array([[-5.72677910e-01,  5.51886559e-01, -5.42258799e-01, ...,\n",
       "         -3.70566487e-01, -2.15387121e-01,  3.87644887e-01],\n",
       "        [-1.07014261e-03,  8.40542316e-02,  1.37373209e-02, ...,\n",
       "          7.43033085e-03,  1.24539380e-04, -2.74667740e-02],\n",
       "        [-7.61919990e-02,  1.16362505e-01,  6.21965788e-02, ...,\n",
       "          1.16301261e-01,  1.48258563e-02, -1.31685212e-01],\n",
       "        ...,\n",
       "        [ 7.06203580e-02,  4.82303239e-02,  2.74469778e-02, ...,\n",
       "          9.45487618e-02, -1.04238018e-01, -5.75047247e-02],\n",
       "        [-1.15041882e-01, -9.36824009e-02, -1.81297138e-01, ...,\n",
       "         -1.84234977e-01,  3.04059107e-02,  1.84933141e-01],\n",
       "        [ 1.03732966e-01,  7.60647058e-02,  7.07345754e-02, ...,\n",
       "          1.70186803e-01,  1.68878101e-02, -1.50859624e-01]], dtype=float32),\n",
       " array([[ 0.00612009,  0.13924718,  0.04857093, ...,  0.18336412,\n",
       "          0.05546656, -0.04107525],\n",
       "        [ 0.13944857, -0.08847068, -0.14243308, ..., -0.10335591,\n",
       "         -0.05847744, -0.10772534],\n",
       "        [ 0.14810288, -0.0978215 , -0.09599801, ...,  0.09847332,\n",
       "          0.12518263,  0.01981859],\n",
       "        ...,\n",
       "        [ 0.06384031,  0.11309081, -0.08989891, ...,  0.23029023,\n",
       "         -0.0460614 ,  0.09201205],\n",
       "        [-0.00411023,  0.04697129, -0.13922341, ..., -0.00856112,\n",
       "          0.11191229,  0.08480915],\n",
       "        [ 0.04140817, -0.1925792 ,  0.11475167, ..., -0.15602021,\n",
       "          0.09881919, -0.11483889]], dtype=float32),\n",
       " array([[-8.5120864e-02,  9.9548250e-02, -6.0257681e-02, ...,\n",
       "          3.7538718e-02, -4.2971894e-02, -3.9346345e-02],\n",
       "        [-1.2108788e-02, -2.3832671e-02, -2.5319422e-02, ...,\n",
       "          7.6556377e-02, -4.4400707e-02, -5.4000605e-02],\n",
       "        [-2.0569365e-04,  1.4308327e-01,  1.2833573e-01, ...,\n",
       "          2.1019084e-02, -2.1944270e-01, -1.0060856e-01],\n",
       "        ...,\n",
       "        [-6.6544907e-03,  4.2208839e-02,  4.9324229e-02, ...,\n",
       "          2.2411506e-01, -1.1082129e-01, -1.4040190e-01],\n",
       "        [ 6.3803080e-03,  1.1456286e-01, -4.0406454e-02, ...,\n",
       "         -1.2060545e-02, -5.1937010e-02,  2.4089823e-02],\n",
       "        [-1.7049484e-01,  1.5267828e-02, -1.0716692e-01, ...,\n",
       "          2.5039643e-02,  1.1467978e-02, -2.7240485e-01]], dtype=float32),\n",
       " array([-0.01016136,  0.03130511, -0.02319252, -0.02550001,  0.00673092,\n",
       "        -0.02754036,  0.00652643, -0.01955402,  0.01218944, -0.02155451,\n",
       "        -0.02120303, -0.00055325,  0.01028036, -0.02801156, -0.02994396,\n",
       "         0.01828195, -0.0033665 ,  0.03275185,  0.04999806, -0.00908926,\n",
       "         0.01145669, -0.04044633, -0.00186664,  0.02100237,  0.01465517,\n",
       "         0.01869032,  0.03327691, -0.02937955,  0.01188075, -0.03439666,\n",
       "         0.00601796, -0.00067091,  0.01694246,  0.01872563,  0.04885542,\n",
       "        -0.00820481, -0.01419463,  0.01677162,  0.00607768, -0.01810041,\n",
       "        -0.02107696, -0.03819123,  0.0139535 , -0.02547323, -0.03330987,\n",
       "        -0.03519579,  0.01520694,  0.00727873, -0.03111894, -0.00597588,\n",
       "        -0.02198542, -0.03068035, -0.03334429, -0.05371182, -0.0269105 ,\n",
       "        -0.0317629 , -0.03333516, -0.02213516, -0.01714466,  0.03028316,\n",
       "        -0.02676086,  0.03214292, -0.04606708,  0.03333125,  0.03436479,\n",
       "        -0.03868265, -0.02601866, -0.02103651,  0.00717104,  0.00618014,\n",
       "        -0.03934303, -0.03072234,  0.00804864,  0.03018312,  0.02489099,\n",
       "         0.04526663, -0.04028789,  0.01922861, -0.01290605, -0.0068782 ,\n",
       "        -0.03060887,  0.01083345, -0.02678266,  0.00284344,  0.04121036,\n",
       "        -0.02602346,  0.00079642, -0.03289823, -0.03156202, -0.0309403 ,\n",
       "        -0.00357297, -0.02379166,  0.0393355 ,  0.03537941, -0.0264344 ,\n",
       "        -0.01117293, -0.0196891 , -0.04312434, -0.03767887,  0.00846517,\n",
       "         0.02399047, -0.03797661, -0.04227982,  0.03285411, -0.03143539,\n",
       "         0.01591339, -0.01714022,  0.01474256,  0.03301447, -0.01863719,\n",
       "        -0.0209651 , -0.0190429 , -0.03739882,  0.0371556 , -0.00435022,\n",
       "         0.00716862,  0.05307827,  0.04318367, -0.01913014,  0.05410834,\n",
       "         0.03853592, -0.02560105,  0.00714224,  0.01456063,  0.00622354,\n",
       "         0.05003714, -0.02215127, -0.03322115], dtype=float32),\n",
       " array([[-1.35560945e-01],\n",
       "        [-5.77464281e-03],\n",
       "        [ 9.70258489e-02],\n",
       "        [ 7.34552443e-02],\n",
       "        [ 1.52841285e-01],\n",
       "        [ 1.02919087e-01],\n",
       "        [-9.86845851e-01],\n",
       "        [-2.09339887e-01],\n",
       "        [ 6.04207776e-02],\n",
       "        [-1.51358426e-01],\n",
       "        [-2.48346627e-01],\n",
       "        [ 2.92861983e-02],\n",
       "        [ 1.26355335e-01],\n",
       "        [-1.53673336e-01],\n",
       "        [-9.91724804e-02],\n",
       "        [ 2.03191042e-01],\n",
       "        [-8.55802596e-02],\n",
       "        [ 1.91265807e-01],\n",
       "        [-1.54899299e-01],\n",
       "        [-1.16838433e-01],\n",
       "        [-3.87482792e-02],\n",
       "        [ 5.44714965e-02],\n",
       "        [ 1.36921301e-01],\n",
       "        [ 1.72759458e-01],\n",
       "        [ 1.14514261e-01],\n",
       "        [-3.31286728e-01],\n",
       "        [ 1.55108914e-01],\n",
       "        [-6.09101588e-03],\n",
       "        [-3.23052257e-01],\n",
       "        [ 6.93566427e-02],\n",
       "        [-1.34729803e-01],\n",
       "        [-1.46582678e-01],\n",
       "        [ 1.76700652e-01],\n",
       "        [ 6.85839914e-03],\n",
       "        [-7.31354281e-02],\n",
       "        [ 1.29370196e-02],\n",
       "        [-1.83806568e-01],\n",
       "        [-1.02976575e-01],\n",
       "        [-7.83578902e-02],\n",
       "        [-6.58435225e-02],\n",
       "        [ 8.88016447e-02],\n",
       "        [ 1.59404948e-02],\n",
       "        [ 1.94779381e-01],\n",
       "        [-2.12493643e-01],\n",
       "        [-2.34539032e-01],\n",
       "        [-1.16804197e-01],\n",
       "        [-3.20426077e-01],\n",
       "        [ 1.11121178e-01],\n",
       "        [-5.54535463e-02],\n",
       "        [-2.09213048e-01],\n",
       "        [-1.09012863e-02],\n",
       "        [ 1.36404978e-02],\n",
       "        [-1.52595229e-02],\n",
       "        [ 2.41569355e-02],\n",
       "        [-8.76931697e-02],\n",
       "        [-1.52532965e-01],\n",
       "        [ 4.51255764e-04],\n",
       "        [-1.97323099e-01],\n",
       "        [-1.59526885e-01],\n",
       "        [-3.27239811e-01],\n",
       "        [ 2.71328092e-02],\n",
       "        [-7.09213363e-03],\n",
       "        [-3.56652476e-02],\n",
       "        [-4.65819597e-01],\n",
       "        [ 7.03927726e-02],\n",
       "        [ 2.63017882e-02],\n",
       "        [ 1.92156255e-01],\n",
       "        [-1.83352247e-01],\n",
       "        [-2.14755401e-01],\n",
       "        [-5.25000412e-03],\n",
       "        [-1.95936307e-01],\n",
       "        [-9.79736224e-02],\n",
       "        [-4.84236628e-02],\n",
       "        [-5.89783527e-02],\n",
       "        [ 1.85381368e-01],\n",
       "        [ 2.16542706e-01],\n",
       "        [ 1.15517259e-01],\n",
       "        [ 2.30106831e-01],\n",
       "        [-1.18835419e-01],\n",
       "        [ 9.75980461e-02],\n",
       "        [ 1.47961646e-01],\n",
       "        [ 2.57217400e-02],\n",
       "        [ 8.55596662e-02],\n",
       "        [ 8.94319192e-02],\n",
       "        [-1.30756378e-01],\n",
       "        [-1.83867827e-01],\n",
       "        [ 1.11398660e-02],\n",
       "        [ 6.64893836e-02],\n",
       "        [ 1.22664385e-01],\n",
       "        [-2.25887135e-01],\n",
       "        [-3.45652290e-02],\n",
       "        [-4.98920754e-02],\n",
       "        [-1.27339765e-01],\n",
       "        [-1.61378592e-01],\n",
       "        [-2.35548288e-01],\n",
       "        [-2.35700130e-01],\n",
       "        [-1.95732377e-02],\n",
       "        [-1.72239915e-01],\n",
       "        [-1.13500381e+00],\n",
       "        [-7.16010258e-02],\n",
       "        [-2.05895919e-02],\n",
       "        [ 9.18826014e-02],\n",
       "        [-1.09617628e-01],\n",
       "        [ 9.28501338e-02],\n",
       "        [ 2.21472140e-02],\n",
       "        [-1.03495959e-02],\n",
       "        [-9.90885571e-02],\n",
       "        [-1.60959400e-02],\n",
       "        [-2.19388362e-02],\n",
       "        [-9.32518244e-02],\n",
       "        [-9.02878270e-02],\n",
       "        [-1.02407821e-01],\n",
       "        [ 1.37601957e-01],\n",
       "        [ 1.11427918e-01],\n",
       "        [-2.89041221e-01],\n",
       "        [-6.32260880e-03],\n",
       "        [ 1.71403348e-01],\n",
       "        [ 1.69139281e-01],\n",
       "        [-1.80437341e-01],\n",
       "        [ 1.13552719e-01],\n",
       "        [ 2.09597856e-01],\n",
       "        [-8.34845826e-02],\n",
       "        [-1.25965744e-01],\n",
       "        [-3.18122059e-02],\n",
       "        [ 2.54885890e-02],\n",
       "        [ 2.25848183e-01],\n",
       "        [-1.14795409e-01],\n",
       "        [ 5.80893718e-02]], dtype=float32),\n",
       " array([-1.5804124], dtype=float32)]"
      ]
     },
     "execution_count": 4,
     "metadata": {},
     "output_type": "execute_result"
    }
   ],
   "execution_count": 4
  },
  {
   "metadata": {
    "ExecuteTime": {
     "end_time": "2025-05-16T19:12:15.565689Z",
     "start_time": "2025-05-16T19:12:15.561692Z"
    }
   },
   "cell_type": "code",
   "source": "",
   "id": "4d4e587d47140df8",
   "outputs": [],
   "execution_count": null
  },
  {
   "metadata": {},
   "cell_type": "markdown",
   "source": "STEP 2",
   "id": "bc5af02a538f1543"
  },
  {
   "metadata": {
    "ExecuteTime": {
     "end_time": "2025-05-16T19:12:15.672306Z",
     "start_time": "2025-05-16T19:12:15.666933Z"
    }
   },
   "cell_type": "code",
   "source": [
    "#Step 2: helper function\n",
    "#function to decode reviews\n",
    "def decode_review(encoded_review):\n",
    "    return ' '.join([reverse_word_index.get(i-3,'?')for i in encoded_review])\n",
    "\n",
    "##Function to preprocess user input\n",
    "def preprocess_text(text):\n",
    "    words=text.lower().split()\n",
    "    encoded_review = [word_index.get(word,2) + 3 for word in words]\n",
    "    padded_review = sequence.pad_sequences([encoded_review],maxlen=500)\n",
    "    return padded_review"
   ],
   "id": "a7fb90a014c60af5",
   "outputs": [],
   "execution_count": 5
  },
  {
   "metadata": {
    "ExecuteTime": {
     "end_time": "2025-05-16T19:12:15.825060Z",
     "start_time": "2025-05-16T19:12:15.820567Z"
    }
   },
   "cell_type": "code",
   "source": [
    "##Prediction Function\n",
    "def predict_sentiment(review):\n",
    "    preprocessed_input = preprocess_text(review)\n",
    "\n",
    "    prediction = model.predict(preprocessed_input)\n",
    "\n",
    "    sentiment = 'Positive' if prediction[0][0] >0.5 else 'Negative'\n",
    "    return sentiment,prediction[0][0]\n",
    "\n"
   ],
   "id": "66ad95456ee75b9b",
   "outputs": [],
   "execution_count": 6
  },
  {
   "metadata": {
    "ExecuteTime": {
     "end_time": "2025-05-16T19:12:16.186355Z",
     "start_time": "2025-05-16T19:12:15.835592Z"
    }
   },
   "cell_type": "code",
   "source": [
    "##Step 4: USer input and prediction\n",
    "#Example  review for prediction\n",
    "\n",
    "example_review = \"This movie was fantastic! The acting was great and the plot was thrilling.\"\n",
    "sentiment,score = predict_sentiment(example_review)\n",
    "\n",
    "print(f\"Review: {example_review}\")\n",
    "print(f\"Sentiment: {sentiment}\")\n",
    "print(f\"Prediction Score:{score}\")"
   ],
   "id": "e38828d6a813ff9",
   "outputs": [
    {
     "name": "stdout",
     "output_type": "stream",
     "text": [
      "\u001B[1m1/1\u001B[0m \u001B[32m━━━━━━━━━━━━━━━━━━━━\u001B[0m\u001B[37m\u001B[0m \u001B[1m0s\u001B[0m 283ms/step\n",
      "Review: This movie was fantastic! The acting was great and the plot was thrilling.\n",
      "Sentiment: Positive\n",
      "Prediction Score:0.7971169948577881\n"
     ]
    }
   ],
   "execution_count": 7
  },
  {
   "metadata": {
    "ExecuteTime": {
     "end_time": "2025-05-16T19:12:16.250929Z",
     "start_time": "2025-05-16T19:12:16.247656Z"
    }
   },
   "cell_type": "code",
   "source": "",
   "id": "91e3184da8dd5e11",
   "outputs": [],
   "execution_count": null
  },
  {
   "metadata": {
    "ExecuteTime": {
     "end_time": "2025-05-16T19:12:16.387910Z",
     "start_time": "2025-05-16T19:12:16.385334Z"
    }
   },
   "cell_type": "code",
   "source": "",
   "id": "118884624cd7c314",
   "outputs": [],
   "execution_count": null
  },
  {
   "metadata": {
    "ExecuteTime": {
     "end_time": "2025-05-16T19:12:16.400414Z",
     "start_time": "2025-05-16T19:12:16.397400Z"
    }
   },
   "cell_type": "code",
   "source": "",
   "id": "e8bd83b66dddd598",
   "outputs": [],
   "execution_count": null
  },
  {
   "metadata": {
    "ExecuteTime": {
     "end_time": "2025-05-16T19:12:16.481998Z",
     "start_time": "2025-05-16T19:12:16.478637Z"
    }
   },
   "cell_type": "code",
   "source": "",
   "id": "abf1894881fd1602",
   "outputs": [],
   "execution_count": null
  },
  {
   "metadata": {
    "ExecuteTime": {
     "end_time": "2025-05-16T19:12:16.550523Z",
     "start_time": "2025-05-16T19:12:16.547416Z"
    }
   },
   "cell_type": "code",
   "source": "",
   "id": "a1432c988d707285",
   "outputs": [],
   "execution_count": null
  },
  {
   "metadata": {
    "ExecuteTime": {
     "end_time": "2025-05-16T19:12:16.688278Z",
     "start_time": "2025-05-16T19:12:16.684745Z"
    }
   },
   "cell_type": "code",
   "source": "",
   "id": "5c91effec38ad952",
   "outputs": [],
   "execution_count": null
  },
  {
   "metadata": {
    "ExecuteTime": {
     "end_time": "2025-05-16T19:12:16.765425Z",
     "start_time": "2025-05-16T19:12:16.762851Z"
    }
   },
   "cell_type": "code",
   "source": "",
   "id": "d3a0a781a8cddc86",
   "outputs": [],
   "execution_count": null
  },
  {
   "metadata": {
    "ExecuteTime": {
     "end_time": "2025-05-16T19:12:16.823732Z",
     "start_time": "2025-05-16T19:12:16.820553Z"
    }
   },
   "cell_type": "code",
   "source": "",
   "id": "4af27755bfdb616e",
   "outputs": [],
   "execution_count": null
  }
 ],
 "metadata": {
  "kernelspec": {
   "display_name": "Python 3",
   "language": "python",
   "name": "python3"
  },
  "language_info": {
   "codemirror_mode": {
    "name": "ipython",
    "version": 2
   },
   "file_extension": ".py",
   "mimetype": "text/x-python",
   "name": "python",
   "nbconvert_exporter": "python",
   "pygments_lexer": "ipython2",
   "version": "2.7.6"
  }
 },
 "nbformat": 4,
 "nbformat_minor": 5
}
