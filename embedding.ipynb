{
 "cells": [
  {
   "cell_type": "code",
   "execution_count": 1,
   "id": "d6ee3c1d81cea59f",
   "metadata": {
    "ExecuteTime": {
     "end_time": "2025-05-16T19:12:03.726655Z",
     "start_time": "2025-05-16T19:11:54.274086Z"
    }
   },
   "outputs": [],
   "source": [
    "from tensorflow.keras.preprocessing.text import one_hot"
   ]
  },
  {
   "cell_type": "code",
   "execution_count": null,
   "id": "72c4f6afe32567e4",
   "metadata": {
    "ExecuteTime": {
     "end_time": "2025-05-16T19:12:03.741227Z",
     "start_time": "2025-05-16T19:12:03.737375Z"
    }
   },
   "outputs": [],
   "source": [
    " ##sentences\n",
    " sent=[ 'The glass of milk',\n",
    "        'the glass of juice',\n",
    "        'the cup of tea',\n",
    "        'I am a good boy',\n",
    "        'understand the meaning of words',\n",
    "        'your videos are good',]"
   ]
  },
  {
   "cell_type": "code",
   "execution_count": null,
   "id": "eaecec219670c421",
   "metadata": {
    "ExecuteTime": {
     "end_time": "2025-05-16T19:12:03.759844Z",
     "start_time": "2025-05-16T19:12:03.751994Z"
    }
   },
   "outputs": [
    {
     "data": {
      "text/plain": [
       "['The glass of milk',\n",
       " 'the glass of juice',\n",
       " 'the cup of tea',\n",
       " 'I am a good boy',\n",
       " 'understand the meaning of words',\n",
       " 'your videos are good']"
      ]
     },
     "execution_count": 3,
     "metadata": {},
     "output_type": "execute_result"
    }
   ],
   "source": [
    "sent"
   ]
  },
  {
   "cell_type": "code",
   "execution_count": null,
   "id": "9d82fa9bb6735500",
   "metadata": {
    "ExecuteTime": {
     "end_time": "2025-05-16T19:12:03.775273Z",
     "start_time": "2025-05-16T19:12:03.771734Z"
    }
   },
   "outputs": [],
   "source": [
    "###Define the vocabulary size\n",
    "voc_size = 10000"
   ]
  },
  {
   "cell_type": "code",
   "execution_count": null,
   "id": "cfd265afa6728191",
   "metadata": {
    "ExecuteTime": {
     "end_time": "2025-05-16T19:12:04.358516Z",
     "start_time": "2025-05-16T19:12:04.354358Z"
    }
   },
   "outputs": [
    {
     "data": {
      "text/plain": [
       "['The glass of milk',\n",
       " 'the glass of juice',\n",
       " 'the cup of tea',\n",
       " 'I am a good boy',\n",
       " 'understand the meaning of words',\n",
       " 'your videos are good']"
      ]
     },
     "execution_count": 5,
     "metadata": {},
     "output_type": "execute_result"
    }
   ],
   "source": [
    "sent"
   ]
  },
  {
   "cell_type": "code",
   "execution_count": null,
   "id": "ff5a3ae53bc5a04e",
   "metadata": {
    "ExecuteTime": {
     "end_time": "2025-05-16T19:12:04.372808Z",
     "start_time": "2025-05-16T19:12:04.366926Z"
    }
   },
   "outputs": [
    {
     "data": {
      "text/plain": [
       "[[3993, 1525, 617, 7673],\n",
       " [3993, 1525, 617, 459],\n",
       " [3993, 2522, 617, 4576],\n",
       " [5857, 45, 2237, 3059, 8807],\n",
       " [3146, 3993, 2133, 617, 7697],\n",
       " [5350, 9998, 6665, 3059]]"
      ]
     },
     "execution_count": 6,
     "metadata": {},
     "output_type": "execute_result"
    }
   ],
   "source": [
    "##One hot Representation\n",
    "one_hot_repr = [one_hot(words,voc_size)for words in sent]\n",
    "one_hot_repr"
   ]
  },
  {
   "cell_type": "code",
   "execution_count": null,
   "id": "fa04ce532249c5b4",
   "metadata": {
    "ExecuteTime": {
     "end_time": "2025-05-16T19:12:04.472761Z",
     "start_time": "2025-05-16T19:12:04.469512Z"
    }
   },
   "outputs": [],
   "source": [
    "## word embedding representation"
   ]
  },
  {
   "cell_type": "code",
   "execution_count": null,
   "id": "f8bd9e3e90355969",
   "metadata": {
    "ExecuteTime": {
     "end_time": "2025-05-16T19:12:04.506801Z",
     "start_time": "2025-05-16T19:12:04.499797Z"
    }
   },
   "outputs": [],
   "source": [
    "from tensorflow.keras.layers import Embedding\n",
    "##from tensorflow.keras.processing.sequence import pad_sequences\n",
    "from tensorflow.keras.utils import pad_sequences\n",
    "from tensorflow.keras.models import Sequential"
   ]
  },
  {
   "cell_type": "code",
   "execution_count": null,
   "id": "e25e81c8345160f9",
   "metadata": {
    "ExecuteTime": {
     "end_time": "2025-05-16T19:12:04.516308Z",
     "start_time": "2025-05-16T19:12:04.513550Z"
    }
   },
   "outputs": [],
   "source": [
    "import numpy as np"
   ]
  },
  {
   "cell_type": "code",
   "execution_count": null,
   "id": "2c00f1d640284ef2",
   "metadata": {
    "ExecuteTime": {
     "end_time": "2025-05-16T19:12:04.530637Z",
     "start_time": "2025-05-16T19:12:04.525018Z"
    }
   },
   "outputs": [
    {
     "name": "stdout",
     "output_type": "stream",
     "text": [
      "[[   0    0    0    0 3993 1525  617 7673]\n",
      " [   0    0    0    0 3993 1525  617  459]\n",
      " [   0    0    0    0 3993 2522  617 4576]\n",
      " [   0    0    0 5857   45 2237 3059 8807]\n",
      " [   0    0    0 3146 3993 2133  617 7697]\n",
      " [   0    0    0    0 5350 9998 6665 3059]]\n"
     ]
    }
   ],
   "source": [
    "sent_length = 8\n",
    "embedded_docs=pad_sequences(one_hot_repr,padding='pre',maxlen=sent_length)\n",
    "print(embedded_docs)"
   ]
  },
  {
   "cell_type": "code",
   "execution_count": null,
   "id": "ba6725c6dd55a4cd",
   "metadata": {
    "ExecuteTime": {
     "end_time": "2025-05-16T19:12:04.556173Z",
     "start_time": "2025-05-16T19:12:04.552702Z"
    }
   },
   "outputs": [],
   "source": [
    "## feature representation\n",
    "dim = 10"
   ]
  },
  {
   "cell_type": "code",
   "execution_count": 12,
   "id": "5879bddf0a86bc23",
   "metadata": {
    "ExecuteTime": {
     "end_time": "2025-05-16T19:12:04.763839Z",
     "start_time": "2025-05-16T19:12:04.634810Z"
    }
   },
   "outputs": [
    {
     "name": "stderr",
     "output_type": "stream",
     "text": [
      "c:\\Users\\Piyush\\miniconda3\\Lib\\site-packages\\keras\\src\\layers\\core\\embedding.py:90: UserWarning: Argument `input_length` is deprecated. Just remove it.\n",
      "  warnings.warn(\n"
     ]
    }
   ],
   "source": [
    "model=Sequential()\n",
    "model.add(Embedding(voc_size,dim,input_length=sent_length))\n",
    "model.compile('adam','mse')"
   ]
  },
  {
   "cell_type": "code",
   "execution_count": 13,
   "id": "1e33851528d73c14",
   "metadata": {
    "ExecuteTime": {
     "end_time": "2025-05-16T19:12:04.828583Z",
     "start_time": "2025-05-16T19:12:04.781786Z"
    }
   },
   "outputs": [],
   "source": [
    "model.build(input_shape=(None, sent_length))\n"
   ]
  },
  {
   "cell_type": "code",
   "execution_count": 14,
   "id": "3d0e66d158c747bf",
   "metadata": {
    "ExecuteTime": {
     "end_time": "2025-05-16T19:12:04.860233Z",
     "start_time": "2025-05-16T19:12:04.836346Z"
    }
   },
   "outputs": [
    {
     "data": {
      "text/html": [
       "<pre style=\"white-space:pre;overflow-x:auto;line-height:normal;font-family:Menlo,'DejaVu Sans Mono',consolas,'Courier New',monospace\"><span style=\"font-weight: bold\">Model: \"sequential\"</span>\n",
       "</pre>\n"
      ],
      "text/plain": [
       "\u001b[1mModel: \"sequential\"\u001b[0m\n"
      ]
     },
     "metadata": {},
     "output_type": "display_data"
    },
    {
     "data": {
      "text/html": [
       "<pre style=\"white-space:pre;overflow-x:auto;line-height:normal;font-family:Menlo,'DejaVu Sans Mono',consolas,'Courier New',monospace\">┏━━━━━━━━━━━━━━━━━━━━━━━━━━━━━━━━━┳━━━━━━━━━━━━━━━━━━━━━━━━┳━━━━━━━━━━━━━━━┓\n",
       "┃<span style=\"font-weight: bold\"> Layer (type)                    </span>┃<span style=\"font-weight: bold\"> Output Shape           </span>┃<span style=\"font-weight: bold\">       Param # </span>┃\n",
       "┡━━━━━━━━━━━━━━━━━━━━━━━━━━━━━━━━━╇━━━━━━━━━━━━━━━━━━━━━━━━╇━━━━━━━━━━━━━━━┩\n",
       "│ embedding (<span style=\"color: #0087ff; text-decoration-color: #0087ff\">Embedding</span>)           │ (<span style=\"color: #00d7ff; text-decoration-color: #00d7ff\">None</span>, <span style=\"color: #00af00; text-decoration-color: #00af00\">8</span>, <span style=\"color: #00af00; text-decoration-color: #00af00\">10</span>)          │       <span style=\"color: #00af00; text-decoration-color: #00af00\">100,000</span> │\n",
       "└─────────────────────────────────┴────────────────────────┴───────────────┘\n",
       "</pre>\n"
      ],
      "text/plain": [
       "┏━━━━━━━━━━━━━━━━━━━━━━━━━━━━━━━━━┳━━━━━━━━━━━━━━━━━━━━━━━━┳━━━━━━━━━━━━━━━┓\n",
       "┃\u001b[1m \u001b[0m\u001b[1mLayer (type)                   \u001b[0m\u001b[1m \u001b[0m┃\u001b[1m \u001b[0m\u001b[1mOutput Shape          \u001b[0m\u001b[1m \u001b[0m┃\u001b[1m \u001b[0m\u001b[1m      Param #\u001b[0m\u001b[1m \u001b[0m┃\n",
       "┡━━━━━━━━━━━━━━━━━━━━━━━━━━━━━━━━━╇━━━━━━━━━━━━━━━━━━━━━━━━╇━━━━━━━━━━━━━━━┩\n",
       "│ embedding (\u001b[38;5;33mEmbedding\u001b[0m)           │ (\u001b[38;5;45mNone\u001b[0m, \u001b[38;5;34m8\u001b[0m, \u001b[38;5;34m10\u001b[0m)          │       \u001b[38;5;34m100,000\u001b[0m │\n",
       "└─────────────────────────────────┴────────────────────────┴───────────────┘\n"
      ]
     },
     "metadata": {},
     "output_type": "display_data"
    },
    {
     "data": {
      "text/html": [
       "<pre style=\"white-space:pre;overflow-x:auto;line-height:normal;font-family:Menlo,'DejaVu Sans Mono',consolas,'Courier New',monospace\"><span style=\"font-weight: bold\"> Total params: </span><span style=\"color: #00af00; text-decoration-color: #00af00\">100,000</span> (390.62 KB)\n",
       "</pre>\n"
      ],
      "text/plain": [
       "\u001b[1m Total params: \u001b[0m\u001b[38;5;34m100,000\u001b[0m (390.62 KB)\n"
      ]
     },
     "metadata": {},
     "output_type": "display_data"
    },
    {
     "data": {
      "text/html": [
       "<pre style=\"white-space:pre;overflow-x:auto;line-height:normal;font-family:Menlo,'DejaVu Sans Mono',consolas,'Courier New',monospace\"><span style=\"font-weight: bold\"> Trainable params: </span><span style=\"color: #00af00; text-decoration-color: #00af00\">100,000</span> (390.62 KB)\n",
       "</pre>\n"
      ],
      "text/plain": [
       "\u001b[1m Trainable params: \u001b[0m\u001b[38;5;34m100,000\u001b[0m (390.62 KB)\n"
      ]
     },
     "metadata": {},
     "output_type": "display_data"
    },
    {
     "data": {
      "text/html": [
       "<pre style=\"white-space:pre;overflow-x:auto;line-height:normal;font-family:Menlo,'DejaVu Sans Mono',consolas,'Courier New',monospace\"><span style=\"font-weight: bold\"> Non-trainable params: </span><span style=\"color: #00af00; text-decoration-color: #00af00\">0</span> (0.00 B)\n",
       "</pre>\n"
      ],
      "text/plain": [
       "\u001b[1m Non-trainable params: \u001b[0m\u001b[38;5;34m0\u001b[0m (0.00 B)\n"
      ]
     },
     "metadata": {},
     "output_type": "display_data"
    }
   ],
   "source": [
    "model.summary()"
   ]
  },
  {
   "cell_type": "code",
   "execution_count": 15,
   "id": "7196eee446f82408",
   "metadata": {
    "ExecuteTime": {
     "end_time": "2025-05-16T19:12:05.289297Z",
     "start_time": "2025-05-16T19:12:04.903043Z"
    }
   },
   "outputs": [
    {
     "name": "stdout",
     "output_type": "stream",
     "text": [
      "\u001b[1m1/1\u001b[0m \u001b[32m━━━━━━━━━━━━━━━━━━━━\u001b[0m\u001b[37m\u001b[0m \u001b[1m0s\u001b[0m 51ms/step\n"
     ]
    },
    {
     "data": {
      "text/plain": [
       "array([[[ 2.50673406e-02,  2.25762762e-02, -6.64743036e-03,\n",
       "         -1.09947845e-03, -1.88583378e-02,  3.72090451e-02,\n",
       "         -9.62332636e-03,  4.42624092e-04, -8.42738897e-04,\n",
       "         -5.31570986e-03],\n",
       "        [ 2.50673406e-02,  2.25762762e-02, -6.64743036e-03,\n",
       "         -1.09947845e-03, -1.88583378e-02,  3.72090451e-02,\n",
       "         -9.62332636e-03,  4.42624092e-04, -8.42738897e-04,\n",
       "         -5.31570986e-03],\n",
       "        [ 2.50673406e-02,  2.25762762e-02, -6.64743036e-03,\n",
       "         -1.09947845e-03, -1.88583378e-02,  3.72090451e-02,\n",
       "         -9.62332636e-03,  4.42624092e-04, -8.42738897e-04,\n",
       "         -5.31570986e-03],\n",
       "        [ 2.50673406e-02,  2.25762762e-02, -6.64743036e-03,\n",
       "         -1.09947845e-03, -1.88583378e-02,  3.72090451e-02,\n",
       "         -9.62332636e-03,  4.42624092e-04, -8.42738897e-04,\n",
       "         -5.31570986e-03],\n",
       "        [-4.06460762e-02, -6.37257099e-03,  1.32776424e-03,\n",
       "         -4.06007543e-02,  4.63177897e-02,  1.19037256e-02,\n",
       "         -4.65833209e-02, -1.30075924e-02,  1.82995535e-02,\n",
       "         -7.25064427e-03],\n",
       "        [ 1.08234398e-02,  1.70579888e-02, -2.72437688e-02,\n",
       "         -2.15168837e-02, -2.87436005e-02, -3.41279507e-02,\n",
       "         -1.26953498e-02,  4.31962647e-02, -1.76932663e-03,\n",
       "         -3.55914235e-02],\n",
       "        [-1.00233443e-02, -2.32081302e-02, -2.54281051e-02,\n",
       "         -4.25409526e-04, -3.00576091e-02,  4.30843271e-02,\n",
       "          2.87577771e-02, -1.90053824e-02,  2.73578241e-03,\n",
       "          4.90879081e-02],\n",
       "        [-2.75315996e-02,  5.84986061e-03, -4.85956445e-02,\n",
       "          2.86173932e-02, -1.31357796e-02,  1.52994283e-02,\n",
       "         -4.79183309e-02, -3.41162086e-05, -3.21538597e-02,\n",
       "          7.04805925e-03]],\n",
       "\n",
       "       [[ 2.50673406e-02,  2.25762762e-02, -6.64743036e-03,\n",
       "         -1.09947845e-03, -1.88583378e-02,  3.72090451e-02,\n",
       "         -9.62332636e-03,  4.42624092e-04, -8.42738897e-04,\n",
       "         -5.31570986e-03],\n",
       "        [ 2.50673406e-02,  2.25762762e-02, -6.64743036e-03,\n",
       "         -1.09947845e-03, -1.88583378e-02,  3.72090451e-02,\n",
       "         -9.62332636e-03,  4.42624092e-04, -8.42738897e-04,\n",
       "         -5.31570986e-03],\n",
       "        [ 2.50673406e-02,  2.25762762e-02, -6.64743036e-03,\n",
       "         -1.09947845e-03, -1.88583378e-02,  3.72090451e-02,\n",
       "         -9.62332636e-03,  4.42624092e-04, -8.42738897e-04,\n",
       "         -5.31570986e-03],\n",
       "        [ 2.50673406e-02,  2.25762762e-02, -6.64743036e-03,\n",
       "         -1.09947845e-03, -1.88583378e-02,  3.72090451e-02,\n",
       "         -9.62332636e-03,  4.42624092e-04, -8.42738897e-04,\n",
       "         -5.31570986e-03],\n",
       "        [-4.06460762e-02, -6.37257099e-03,  1.32776424e-03,\n",
       "         -4.06007543e-02,  4.63177897e-02,  1.19037256e-02,\n",
       "         -4.65833209e-02, -1.30075924e-02,  1.82995535e-02,\n",
       "         -7.25064427e-03],\n",
       "        [ 1.08234398e-02,  1.70579888e-02, -2.72437688e-02,\n",
       "         -2.15168837e-02, -2.87436005e-02, -3.41279507e-02,\n",
       "         -1.26953498e-02,  4.31962647e-02, -1.76932663e-03,\n",
       "         -3.55914235e-02],\n",
       "        [-1.00233443e-02, -2.32081302e-02, -2.54281051e-02,\n",
       "         -4.25409526e-04, -3.00576091e-02,  4.30843271e-02,\n",
       "          2.87577771e-02, -1.90053824e-02,  2.73578241e-03,\n",
       "          4.90879081e-02],\n",
       "        [ 4.17006351e-02,  1.96492113e-02,  4.62318324e-02,\n",
       "         -4.34328094e-02,  2.56312750e-02, -2.55154502e-02,\n",
       "          3.00814770e-02,  4.83889841e-02,  9.15022939e-03,\n",
       "         -2.15355996e-02]],\n",
       "\n",
       "       [[ 2.50673406e-02,  2.25762762e-02, -6.64743036e-03,\n",
       "         -1.09947845e-03, -1.88583378e-02,  3.72090451e-02,\n",
       "         -9.62332636e-03,  4.42624092e-04, -8.42738897e-04,\n",
       "         -5.31570986e-03],\n",
       "        [ 2.50673406e-02,  2.25762762e-02, -6.64743036e-03,\n",
       "         -1.09947845e-03, -1.88583378e-02,  3.72090451e-02,\n",
       "         -9.62332636e-03,  4.42624092e-04, -8.42738897e-04,\n",
       "         -5.31570986e-03],\n",
       "        [ 2.50673406e-02,  2.25762762e-02, -6.64743036e-03,\n",
       "         -1.09947845e-03, -1.88583378e-02,  3.72090451e-02,\n",
       "         -9.62332636e-03,  4.42624092e-04, -8.42738897e-04,\n",
       "         -5.31570986e-03],\n",
       "        [ 2.50673406e-02,  2.25762762e-02, -6.64743036e-03,\n",
       "         -1.09947845e-03, -1.88583378e-02,  3.72090451e-02,\n",
       "         -9.62332636e-03,  4.42624092e-04, -8.42738897e-04,\n",
       "         -5.31570986e-03],\n",
       "        [-4.06460762e-02, -6.37257099e-03,  1.32776424e-03,\n",
       "         -4.06007543e-02,  4.63177897e-02,  1.19037256e-02,\n",
       "         -4.65833209e-02, -1.30075924e-02,  1.82995535e-02,\n",
       "         -7.25064427e-03],\n",
       "        [ 3.82853486e-02, -1.24985352e-02,  3.16529907e-02,\n",
       "         -3.28033566e-02, -8.67811590e-03,  1.72919370e-02,\n",
       "         -3.82681936e-03,  3.61420251e-02,  3.62131037e-02,\n",
       "          1.83867849e-02],\n",
       "        [-1.00233443e-02, -2.32081302e-02, -2.54281051e-02,\n",
       "         -4.25409526e-04, -3.00576091e-02,  4.30843271e-02,\n",
       "          2.87577771e-02, -1.90053824e-02,  2.73578241e-03,\n",
       "          4.90879081e-02],\n",
       "        [-4.48740982e-02, -5.87986782e-03,  1.22200958e-02,\n",
       "          2.42150687e-02,  4.86719273e-02, -5.91142103e-03,\n",
       "          2.12896727e-02, -2.14149244e-02, -2.35227477e-02,\n",
       "          2.34869607e-02]],\n",
       "\n",
       "       [[ 2.50673406e-02,  2.25762762e-02, -6.64743036e-03,\n",
       "         -1.09947845e-03, -1.88583378e-02,  3.72090451e-02,\n",
       "         -9.62332636e-03,  4.42624092e-04, -8.42738897e-04,\n",
       "         -5.31570986e-03],\n",
       "        [ 2.50673406e-02,  2.25762762e-02, -6.64743036e-03,\n",
       "         -1.09947845e-03, -1.88583378e-02,  3.72090451e-02,\n",
       "         -9.62332636e-03,  4.42624092e-04, -8.42738897e-04,\n",
       "         -5.31570986e-03],\n",
       "        [ 2.50673406e-02,  2.25762762e-02, -6.64743036e-03,\n",
       "         -1.09947845e-03, -1.88583378e-02,  3.72090451e-02,\n",
       "         -9.62332636e-03,  4.42624092e-04, -8.42738897e-04,\n",
       "         -5.31570986e-03],\n",
       "        [ 2.56153978e-02, -4.94760983e-02,  4.71393019e-03,\n",
       "          3.36534493e-02,  1.31421946e-02,  3.48895080e-02,\n",
       "         -3.35581303e-02, -1.25015490e-02, -6.56037405e-03,\n",
       "         -3.80123742e-02],\n",
       "        [-5.20862639e-04,  1.38692930e-03, -1.37989409e-02,\n",
       "         -3.85031700e-02, -3.78395543e-02,  4.74211238e-02,\n",
       "          1.11473911e-02,  4.93122973e-02, -1.56839937e-03,\n",
       "         -2.51215696e-02],\n",
       "        [ 1.71665661e-02, -4.83965650e-02,  2.89340653e-02,\n",
       "         -3.62691879e-02,  3.95054705e-02,  3.14812399e-02,\n",
       "          1.23921409e-02, -3.90315056e-03,  4.48187441e-03,\n",
       "          2.65256427e-02],\n",
       "        [-2.15018913e-03,  4.75154072e-03, -4.32920717e-02,\n",
       "          2.70344317e-04,  3.15580517e-03,  4.13873047e-03,\n",
       "          2.73439921e-02,  2.58301385e-02,  4.28920723e-02,\n",
       "          5.92809916e-03],\n",
       "        [-3.72398980e-02, -2.54980680e-02, -1.97957754e-02,\n",
       "         -4.90663536e-02,  4.44738306e-02,  4.37351130e-02,\n",
       "          2.68874057e-02,  3.28618623e-02,  9.83732939e-03,\n",
       "          3.98638099e-03]],\n",
       "\n",
       "       [[ 2.50673406e-02,  2.25762762e-02, -6.64743036e-03,\n",
       "         -1.09947845e-03, -1.88583378e-02,  3.72090451e-02,\n",
       "         -9.62332636e-03,  4.42624092e-04, -8.42738897e-04,\n",
       "         -5.31570986e-03],\n",
       "        [ 2.50673406e-02,  2.25762762e-02, -6.64743036e-03,\n",
       "         -1.09947845e-03, -1.88583378e-02,  3.72090451e-02,\n",
       "         -9.62332636e-03,  4.42624092e-04, -8.42738897e-04,\n",
       "         -5.31570986e-03],\n",
       "        [ 2.50673406e-02,  2.25762762e-02, -6.64743036e-03,\n",
       "         -1.09947845e-03, -1.88583378e-02,  3.72090451e-02,\n",
       "         -9.62332636e-03,  4.42624092e-04, -8.42738897e-04,\n",
       "         -5.31570986e-03],\n",
       "        [-1.97460409e-02,  1.27685778e-02, -2.39522941e-02,\n",
       "          3.88298370e-02, -4.13827896e-02, -4.63933609e-02,\n",
       "         -4.08881679e-02,  3.65097560e-02, -4.38744202e-02,\n",
       "         -1.64801590e-02],\n",
       "        [-4.06460762e-02, -6.37257099e-03,  1.32776424e-03,\n",
       "         -4.06007543e-02,  4.63177897e-02,  1.19037256e-02,\n",
       "         -4.65833209e-02, -1.30075924e-02,  1.82995535e-02,\n",
       "         -7.25064427e-03],\n",
       "        [-2.87334565e-02, -3.71039137e-02,  1.61008500e-02,\n",
       "          4.64009307e-02,  4.86728437e-02, -4.78221662e-02,\n",
       "         -4.45879959e-02,  3.79206426e-02,  2.25429051e-02,\n",
       "         -3.17431688e-02],\n",
       "        [-1.00233443e-02, -2.32081302e-02, -2.54281051e-02,\n",
       "         -4.25409526e-04, -3.00576091e-02,  4.30843271e-02,\n",
       "          2.87577771e-02, -1.90053824e-02,  2.73578241e-03,\n",
       "          4.90879081e-02],\n",
       "        [-1.46050565e-02,  1.07067451e-02, -1.44820809e-02,\n",
       "         -4.80957739e-02, -2.40296852e-02,  4.46997993e-02,\n",
       "          2.26805918e-02,  1.46133043e-02, -2.54716519e-02,\n",
       "          4.41555493e-02]],\n",
       "\n",
       "       [[ 2.50673406e-02,  2.25762762e-02, -6.64743036e-03,\n",
       "         -1.09947845e-03, -1.88583378e-02,  3.72090451e-02,\n",
       "         -9.62332636e-03,  4.42624092e-04, -8.42738897e-04,\n",
       "         -5.31570986e-03],\n",
       "        [ 2.50673406e-02,  2.25762762e-02, -6.64743036e-03,\n",
       "         -1.09947845e-03, -1.88583378e-02,  3.72090451e-02,\n",
       "         -9.62332636e-03,  4.42624092e-04, -8.42738897e-04,\n",
       "         -5.31570986e-03],\n",
       "        [ 2.50673406e-02,  2.25762762e-02, -6.64743036e-03,\n",
       "         -1.09947845e-03, -1.88583378e-02,  3.72090451e-02,\n",
       "         -9.62332636e-03,  4.42624092e-04, -8.42738897e-04,\n",
       "         -5.31570986e-03],\n",
       "        [ 2.50673406e-02,  2.25762762e-02, -6.64743036e-03,\n",
       "         -1.09947845e-03, -1.88583378e-02,  3.72090451e-02,\n",
       "         -9.62332636e-03,  4.42624092e-04, -8.42738897e-04,\n",
       "         -5.31570986e-03],\n",
       "        [ 3.10896523e-02, -4.72128056e-02,  3.20321582e-02,\n",
       "         -1.63259022e-02,  3.08693163e-02,  4.02063616e-02,\n",
       "          1.58934705e-02, -3.06415912e-02,  3.36976089e-02,\n",
       "          8.18216801e-03],\n",
       "        [ 4.78939079e-02,  6.28207996e-03, -1.23472102e-02,\n",
       "          3.51805575e-02,  1.60397179e-02, -2.05005165e-02,\n",
       "          3.18222158e-02,  2.01798789e-02,  2.84672901e-03,\n",
       "          2.36408822e-02],\n",
       "        [-3.82677466e-03, -5.61543554e-03,  4.94559668e-02,\n",
       "          8.25121254e-03, -2.93586012e-02,  9.28115845e-03,\n",
       "          3.25442888e-02,  9.86478478e-03,  2.13622339e-02,\n",
       "         -4.73541133e-02],\n",
       "        [-2.15018913e-03,  4.75154072e-03, -4.32920717e-02,\n",
       "          2.70344317e-04,  3.15580517e-03,  4.13873047e-03,\n",
       "          2.73439921e-02,  2.58301385e-02,  4.28920723e-02,\n",
       "          5.92809916e-03]]], dtype=float32)"
      ]
     },
     "execution_count": 15,
     "metadata": {},
     "output_type": "execute_result"
    }
   ],
   "source": [
    "model.predict(embedded_docs)"
   ]
  },
  {
   "cell_type": "code",
   "execution_count": 16,
   "id": "45abc24ba1991e25",
   "metadata": {
    "ExecuteTime": {
     "end_time": "2025-05-16T19:12:05.314213Z",
     "start_time": "2025-05-16T19:12:05.307287Z"
    }
   },
   "outputs": [
    {
     "data": {
      "text/plain": [
       "array([   0,    0,    0,    0, 3993, 1525,  617, 7673])"
      ]
     },
     "execution_count": 16,
     "metadata": {},
     "output_type": "execute_result"
    }
   ],
   "source": [
    "embedded_docs[0]"
   ]
  },
  {
   "cell_type": "code",
   "execution_count": null,
   "id": "36b10a1eeff91744",
   "metadata": {
    "ExecuteTime": {
     "end_time": "2025-05-16T19:12:05.356483Z",
     "start_time": "2025-05-16T19:12:05.353284Z"
    }
   },
   "outputs": [],
   "source": []
  },
  {
   "cell_type": "code",
   "execution_count": null,
   "id": "eaf108bba3f34fcf",
   "metadata": {
    "ExecuteTime": {
     "end_time": "2025-05-16T19:12:05.372518Z",
     "start_time": "2025-05-16T19:12:05.370201Z"
    }
   },
   "outputs": [],
   "source": []
  },
  {
   "cell_type": "code",
   "execution_count": null,
   "id": "259c33afe9469ab9",
   "metadata": {
    "ExecuteTime": {
     "end_time": "2025-05-16T19:12:05.385021Z",
     "start_time": "2025-05-16T19:12:05.381222Z"
    }
   },
   "outputs": [],
   "source": []
  },
  {
   "cell_type": "code",
   "execution_count": null,
   "id": "7c4b810d79ac2346",
   "metadata": {
    "ExecuteTime": {
     "end_time": "2025-05-16T19:12:05.399531Z",
     "start_time": "2025-05-16T19:12:05.397060Z"
    }
   },
   "outputs": [],
   "source": []
  },
  {
   "cell_type": "code",
   "execution_count": null,
   "id": "482e18d59d5da773",
   "metadata": {
    "ExecuteTime": {
     "end_time": "2025-05-16T19:12:05.420358Z",
     "start_time": "2025-05-16T19:12:05.417358Z"
    }
   },
   "outputs": [],
   "source": []
  },
  {
   "cell_type": "code",
   "execution_count": null,
   "id": "6009835be39e0fc6",
   "metadata": {
    "ExecuteTime": {
     "end_time": "2025-05-16T19:12:05.435889Z",
     "start_time": "2025-05-16T19:12:05.432888Z"
    }
   },
   "outputs": [],
   "source": []
  },
  {
   "cell_type": "code",
   "execution_count": null,
   "id": "a8a463e2e81f845b",
   "metadata": {
    "ExecuteTime": {
     "end_time": "2025-05-16T19:12:05.447426Z",
     "start_time": "2025-05-16T19:12:05.444589Z"
    }
   },
   "outputs": [],
   "source": []
  },
  {
   "cell_type": "code",
   "execution_count": null,
   "id": "b87e3c084a67b2d4",
   "metadata": {
    "ExecuteTime": {
     "end_time": "2025-05-16T19:12:05.471350Z",
     "start_time": "2025-05-16T19:12:05.468007Z"
    }
   },
   "outputs": [],
   "source": []
  },
  {
   "cell_type": "code",
   "execution_count": null,
   "id": "117fc01033d6fba6",
   "metadata": {
    "ExecuteTime": {
     "end_time": "2025-05-16T19:12:05.486329Z",
     "start_time": "2025-05-16T19:12:05.483433Z"
    }
   },
   "outputs": [],
   "source": []
  },
  {
   "cell_type": "code",
   "execution_count": null,
   "id": "cab3f285ab5cd3",
   "metadata": {
    "ExecuteTime": {
     "end_time": "2025-05-16T19:12:05.498223Z",
     "start_time": "2025-05-16T19:12:05.495222Z"
    }
   },
   "outputs": [],
   "source": []
  },
  {
   "cell_type": "code",
   "execution_count": null,
   "id": "207cde4b90fd2604",
   "metadata": {
    "ExecuteTime": {
     "end_time": "2025-05-16T19:12:05.514291Z",
     "start_time": "2025-05-16T19:12:05.511292Z"
    }
   },
   "outputs": [],
   "source": []
  }
 ],
 "metadata": {
  "kernelspec": {
   "display_name": "base",
   "language": "python",
   "name": "python3"
  },
  "language_info": {
   "codemirror_mode": {
    "name": "ipython",
    "version": 3
   },
   "file_extension": ".py",
   "mimetype": "text/x-python",
   "name": "python",
   "nbconvert_exporter": "python",
   "pygments_lexer": "ipython3",
   "version": "3.12.4"
  }
 },
 "nbformat": 5,
 "nbformat_minor": 9
}
